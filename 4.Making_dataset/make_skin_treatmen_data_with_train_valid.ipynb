{
 "cells": [
  {
   "cell_type": "code",
   "execution_count": 1,
   "metadata": {},
   "outputs": [],
   "source": [
    "# dataset\\botox_befor\n",
    "# e_and_after_with_forehead\\train\\botox before and after with forehead_0.png\n",
    "from glob import glob\n",
    "from tqdm.auto import  tqdm\n",
    "input_image_path= glob(\"data/*/before/*.jpg\",recursive=True)\n",
    "# print(image_path)\n",
    "output_image_path= glob(\"data/*/after/*.jpg\",recursive=True)\n",
    "\n",
    "input_image_path.sort()\n",
    "output_image_path.sort()"
   ]
  },
  {
   "cell_type": "code",
   "execution_count": 2,
   "metadata": {},
   "outputs": [
    {
     "data": {
      "text/plain": [
       "('botox_with_bunny_line',\n",
       " 'data/botox_with_bunny_line/before/image_0.jpg',\n",
       " 'data/botox_with_bunny_line/after/image_0.jpg')"
      ]
     },
     "execution_count": 2,
     "metadata": {},
     "output_type": "execute_result"
    }
   ],
   "source": [
    "from glob import glob \n",
    "input_image_path\n",
    "label = input_image_path[0].split('/')[1]\n",
    "label , input_image_path[0],output_image_path[0]"
   ]
  },
  {
   "cell_type": "code",
   "execution_count": 3,
   "metadata": {},
   "outputs": [
    {
     "data": {
      "text/plain": [
       "{0: 'botox_with_crow_feet',\n",
       " 1: 'radiofrequency',\n",
       " 2: 'face_filler_with_temples',\n",
       " 3: 'botox_with_dimpled_chin',\n",
       " 4: 'botox_with_perioral_line',\n",
       " 5: 'face_vascular_laser',\n",
       " 6: 'face_filler_with_nose',\n",
       " 7: 'face_fractional_laser',\n",
       " 8: 'high_intensity_focused_ultrasound',\n",
       " 9: 'botox_with_jaw',\n",
       " 10: 'face_filler_with_chin',\n",
       " 11: 'face_filler_with_cheek',\n",
       " 12: 'botox_with_glabellar',\n",
       " 13: 'face_filler_with_lips',\n",
       " 14: 'face_filler_with_marionette_lines',\n",
       " 15: 'face_thread_lifting',\n",
       " 16: 'botox_with_forehead',\n",
       " 17: 'radiofrequency_microneedling',\n",
       " 18: 'face_filler_with_tear_troughs',\n",
       " 19: 'botox_with_bunny_line',\n",
       " 20: 'face_filler_with_nasolabial_folds',\n",
       " 21: 'face_genesis_laser',\n",
       " 22: 'face_laser_toning'}"
      ]
     },
     "execution_count": 3,
     "metadata": {},
     "output_type": "execute_result"
    }
   ],
   "source": [
    "from glob import glob\n",
    "globing = glob('data/*')\n",
    "globing = [x.split('/')[1] for x in globing]\n",
    "label2id, id2label = dict(), dict()\n",
    "for i, label in enumerate(globing):\n",
    "    label2id[label] = i\n",
    "    id2label[i] = label\n",
    "id2label"
   ]
  },
  {
   "cell_type": "code",
   "execution_count": 4,
   "metadata": {},
   "outputs": [],
   "source": [
    "instruction ={\n",
    "    'face_filler_with_temples':\"Fills in hollow temples, balancing facial contours.\",\n",
    "    'botox_with_perioral_line':\"Diminishes fine lines around the mouth.\",\n",
    "    \"face_filler_with_cheek\":\"Adds volume to cheeks for a lifted, fuller look.\",\n",
    "    'face_vascular_laser':\"Reduces redness and visibility of vascular lesions on the skin's surface.\",\n",
    "    'face_genesis_laser':\"Smoothens skin texture, reduces pore size, and softens mild wrinkles.\",\n",
    "    'face_filler_with_nasolabial_folds':\"Softens deep lines from the nose to the mouth.\",\n",
    "    'botox_with_bunny_line':\"Reduces wrinkles on the nose when smiling.\",\n",
    "     'botox_with_jaw':\"Slims and contours the jawline for a more refined appearance.\",\n",
    "     \"radiofrequency\":\"Tightens skin, improves contour, and reduces fine lines for a rejuvenated appearance.\"\n",
    "     ,'face_filler_with_marionette_lines':\" Reduces the appearance of lines from mouth corners to the chin.\",\n",
    "     'face_fractional_laser':\"Improves skin texture, diminishes fine lines, wrinkles, and acne scars.\",\n",
    "     'botox_with_forehead':\"Reduces horizontal forehead lines for a smoother forehead.\",\n",
    "     'botox_with_dimpled_chin':\" Smoothens the orange peel-like texture of the chin.\",\n",
    "     'face_filler_with_tear_troughs':\"Reduces under-eye hollows for a refreshed look.\",\n",
    "     \"botox_with_glabellar\":\"Softens frown lines between the eyebrows.\",\n",
    "     'face_thread_lifting':\"Provides an immediate lifting effect, reducing sagging and enhancing the youthfulness of the face.\",\n",
    "     'face_filler_with_chin':\"Enhances the chin profile for a stronger appearance.\",\n",
    "     'face_laser_toning':\"Enhances skin tone uniformity and reduces pigmentation issues like melasma and sun spots.\",\n",
    "     'botox_with_crow_feet':\" Smoothens wrinkles around the eyes.\",\n",
    "     'face_filler_with_lips':\"Adds volume for fuller, more defined lips.\",\n",
    "     'face_filler_with_nose':\"Corrects minor bumps or irregularities for a smoother nose contour.\",\n",
    "     'radiofrequency_microneedling':\"Enhances skin texture, tightens skin, and reduces the appearance of scars and large pores.\",\n",
    "     'high_intensity_focused_ultrasound':\"Lifts and tightens skin, especially around the jawline and cheeks for a more youthful look.\"\n",
    "}"
   ]
  },
  {
   "cell_type": "code",
   "execution_count": 5,
   "metadata": {},
   "outputs": [
    {
     "data": {
      "text/plain": [
       "7"
      ]
     },
     "execution_count": 5,
     "metadata": {},
     "output_type": "execute_result"
    }
   ],
   "source": [
    "import random\n",
    "random.randrange(10)"
   ]
  },
  {
   "cell_type": "code",
   "execution_count": 6,
   "metadata": {},
   "outputs": [],
   "source": [
    "import pandas as pd\n",
    "from PIL import Image\n",
    "import numpy as np\n",
    "labels = []\n",
    "input= []\n",
    "output =[]\n",
    "labels2 = []\n",
    "input2= []\n",
    "output2 =[]\n",
    "import random\n",
    "random.seed(24)\n",
    "for i,o in zip(input_image_path,output_image_path):\n",
    "    label = i.split('/')[1]\n",
    "    if random.randrange(10)<3:\n",
    "        labels2.append(instruction[label])\n",
    "        input2.append(i)\n",
    "        output2.append(o)\n",
    "    else:\n",
    "        labels.append(instruction[label])\n",
    "        input.append(i)\n",
    "        output.append(o)\n",
    "    "
   ]
  },
  {
   "cell_type": "code",
   "execution_count": 7,
   "metadata": {},
   "outputs": [],
   "source": [
    "import pandas as pd\n",
    "a = pd.DataFrame()\n",
    "a['instruction']=labels\n",
    "a['input_image']=input\n",
    "a['output_image']=output"
   ]
  },
  {
   "cell_type": "code",
   "execution_count": 8,
   "metadata": {},
   "outputs": [],
   "source": [
    "b = pd.DataFrame()\n",
    "b['instruction']=labels2\n",
    "b['input_image']=input2\n",
    "b['output_image']=output2"
   ]
  },
  {
   "cell_type": "code",
   "execution_count": 11,
   "metadata": {},
   "outputs": [],
   "source": [
    "a.to_csv('./instructpix2pix_train.csv',index=False)"
   ]
  },
  {
   "cell_type": "code",
   "execution_count": 10,
   "metadata": {},
   "outputs": [],
   "source": [
    "b.to_csv('./instructpix2pix_test.csv',index=False)"
   ]
  }
 ],
 "metadata": {
  "kernelspec": {
   "display_name": "Python 3",
   "language": "python",
   "name": "python3"
  },
  "language_info": {
   "codemirror_mode": {
    "name": "ipython",
    "version": 3
   },
   "file_extension": ".py",
   "mimetype": "text/x-python",
   "name": "python",
   "nbconvert_exporter": "python",
   "pygments_lexer": "ipython3",
   "version": "3.10.12"
  }
 },
 "nbformat": 4,
 "nbformat_minor": 2
}
