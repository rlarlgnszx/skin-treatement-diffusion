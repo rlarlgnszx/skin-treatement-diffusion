{
 "cells": [
  {
   "cell_type": "code",
   "execution_count": 1,
   "metadata": {},
   "outputs": [],
   "source": [
    "# ! pip install selenium webdriver-manager"
   ]
  },
  {
   "cell_type": "code",
   "execution_count": 2,
   "metadata": {},
   "outputs": [],
   "source": [
    "from tqdm.notebook import tqdm"
   ]
  },
  {
   "cell_type": "code",
   "execution_count": 8,
   "metadata": {},
   "outputs": [],
   "source": [
    "import os\n",
    "import time\n",
    "from io import BytesIO\n",
    "from PIL import Image\n",
    "from pathlib import Path\n",
    "from selenium import webdriver\n",
    "from webdriver_manager.microsoft import EdgeChromiumDriverManager\n",
    "from webdriver_manager.microsoft import EdgeChromiumDriver\n",
    "from selenium.webdriver.edge.service import Service\n",
    "from selenium.webdriver.common.by import By\n",
    "from selenium.webdriver.chrome.options import Options\n",
    "\n",
    "from tqdm.auto import tqdm\n",
    "\n",
    "# 이미지 검색 및 다운로드 함수\n",
    "import requests\n",
    "\n",
    "import requests\n",
    "from glob import glob\n",
    "def download_image(url, save_path):\n",
    "    # 스트림 옵션을 사용하지 않고 요청을 보냅니다.\n",
    "    response = requests.get(url)\n",
    "    if response.status_code == 200:\n",
    "        # 응답으로부터 바이너리 컨텐츠를 가져와서 파일에 바로 씁니다.\n",
    "        with open(save_path, 'wb') as file:\n",
    "            file.write(response.content)\n",
    "\n",
    "import json\n",
    "\n",
    "def download_google_images_no_api(keyword, num_images, save_dir):\n",
    "    \n",
    "    url = f'https://www.bing.com/images/search?q={keyword}'\n",
    "    image_count = 0\n",
    "\n",
    "    service = Service(executable_path=\"chromedriver.exe\")\n",
    "    options = webdriver.ChromeOptions().add_argument('--headless')\n",
    "    driver = webdriver.Chrome(service=service, options=options)\n",
    "    driver.get(url)\n",
    "    driver.maximize_window()\n",
    "    try:\n",
    "        path = glob('../data')[0]\n",
    "    except:\n",
    "        os.mkdir(\"../data/\")\n",
    "        path = glob('../data')[0]\n",
    "    print(path)\n",
    "    with open('down.json') as f:\n",
    "        json_object = json.load(f)\n",
    "    while image_count < num_images:\n",
    "        scroll_height = 1000000\n",
    "        for k in range(json_object['before_index']+json_object['repeat']):\n",
    "            document_height_before = driver.execute_script(\"return document.body.scrollHeight\")\n",
    "            driver.execute_script(f\"window.scrollTo(0, {scroll_height});\")\n",
    "            time.sleep(3)\n",
    "            document_height_after = driver.execute_script(\"return document.body.scrollHeight\")\n",
    "        img_tags = driver.find_elements(By.CSS_SELECTOR, 'img.mimg')\n",
    "        print(len(img_tags))\n",
    "        if not os.path.exists(os.path.join(path,save_dir)):\n",
    "            os.mkdir(os.path.join(path,save_dir))\n",
    "            # os.mkdir(os.path.join(save_dir, 'train'))\n",
    "            # os.mkdir(os.path.join(save_dir, 'valid'))\n",
    "        for img in tqdm(img_tags):\n",
    "            # try:\n",
    "            #     if num_images * (1 - divide_ratio) >= image_count:\n",
    "            #         # 이미지 URL 가져오기\n",
    "            #         image_url = img.get_attribute('src')\n",
    "            #         # 이미지 다운로드\n",
    "            #         save_path = os.path.join(save_dir+'/train', f'{keyword}_{image_count}.png')\n",
    "            #         download_image(image_url, save_path)\n",
    "            #     else:\n",
    "            #         image_url = img.get_attribute('src')\n",
    "            #         save_path = os.path.join(save_dir+'/valid', f'{keyword}_{image_count}.png')\n",
    "            #         download_image(image_url, save_path)\n",
    "\n",
    "            #     image_count += 1\n",
    "            #     if image_count >= num_images:\n",
    "            #         break\n",
    "            # except:\n",
    "            #     pass\n",
    "            try:\n",
    "                image_url = img.get_attribute('src')\n",
    "                # 이미지 다운로드\n",
    "                save_path = os.path.join(path,save_dir, f'{keyword}_{image_count}.png')\n",
    "                download_image(image_url, save_path)\n",
    "                image_count += 1\n",
    "            except:\n",
    "                continue\n",
    "        if document_height_before == document_height_after:\n",
    "            break\n",
    "    driver.quit()\n",
    "lines = [\n",
    "    \"face laser toning before and after\",\n",
    "    \"face fractional laser before and after\",\n",
    "    \"face vascular laser before and after\",\n",
    "    \"face genesis laser before and after\",\n",
    "    \"radiofrequency before and after\",\n",
    "    \"radiofrequency microneedling before and after\",\n",
    "    \"high intensity focused ultrasound before and after\",\n",
    "    \"botox before and after with jaw\",\n",
    "    \"botox before and after with crow feet\",\n",
    "    \"botox before and after with forehead\",\n",
    "    \"botox before and after withglabellar\",\n",
    "    \"botox before and after with perioral line\",\n",
    "    \"botox before and after bunny line\",\n",
    "    \"botox before and after dimpled chin\",\n",
    "    # \"face filler before and after\",\n",
    "    \"face filler before and after tear troughs\",\n",
    "    \"face filler before and after nasolabial folds\",\n",
    "    \"face filler before and after lips\",\n",
    "    \"face filler before and after temples\",\n",
    "    \"face filler before and after chin\",\n",
    "    \"face filler before and after cheek\",\n",
    "    \"face filler before and after nose\",\n",
    "    \"face filler before and after marionette lines\",\n",
    "    \"face filler before and after face thread lifting before and after\"\n",
    "]\n",
    "# category=['Acne face','flush face skin','keratin face','Liver spots face','dry spots_skin','oily face skin']\n",
    "category=lines\n",
    "num_images = 600\n",
    "divide_ratio = 0.2"
   ]
  },
  {
   "cell_type": "code",
   "execution_count": 9,
   "metadata": {},
   "outputs": [
    {
     "name": "stdout",
     "output_type": "stream",
     "text": [
      "../data\n",
      "420\n"
     ]
    },
    {
     "data": {
      "application/vnd.jupyter.widget-view+json": {
       "model_id": "5c7fd1018e2a42a39c8b23b2f9eac474",
       "version_major": 2,
       "version_minor": 0
      },
      "text/plain": [
       "  0%|          | 0/420 [00:00<?, ?it/s]"
      ]
     },
     "metadata": {},
     "output_type": "display_data"
    },
    {
     "ename": "KeyboardInterrupt",
     "evalue": "",
     "output_type": "error",
     "traceback": [
      "\u001b[1;31m---------------------------------------------------------------------------\u001b[0m",
      "\u001b[1;31mKeyboardInterrupt\u001b[0m                         Traceback (most recent call last)",
      "\u001b[1;32mc:\\Users\\kihoon\\Desktop\\AI\\skin_care\\1.Data Downloader\\data_downloader_FINAL.ipynb 셀 4\u001b[0m line \u001b[0;36m4\n\u001b[0;32m      <a href='vscode-notebook-cell:/c%3A/Users/kihoon/Desktop/AI/skin_care/1.Data%20Downloader/data_downloader_FINAL.ipynb#W3sZmlsZQ%3D%3D?line=1'>2</a>\u001b[0m \u001b[39mfor\u001b[39;00m key_word \u001b[39min\u001b[39;00m category:\n\u001b[0;32m      <a href='vscode-notebook-cell:/c%3A/Users/kihoon/Desktop/AI/skin_care/1.Data%20Downloader/data_downloader_FINAL.ipynb#W3sZmlsZQ%3D%3D?line=2'>3</a>\u001b[0m     save_dir \u001b[39m=\u001b[39m \u001b[39m\"\u001b[39m\u001b[39m_\u001b[39m\u001b[39m\"\u001b[39m\u001b[39m.\u001b[39mjoin(key_word\u001b[39m.\u001b[39msplit())\n\u001b[1;32m----> <a href='vscode-notebook-cell:/c%3A/Users/kihoon/Desktop/AI/skin_care/1.Data%20Downloader/data_downloader_FINAL.ipynb#W3sZmlsZQ%3D%3D?line=3'>4</a>\u001b[0m     download_google_images_no_api(key_word, num_images, save_dir) \n",
      "\u001b[1;32mc:\\Users\\kihoon\\Desktop\\AI\\skin_care\\1.Data Downloader\\data_downloader_FINAL.ipynb 셀 4\u001b[0m line \u001b[0;36m5\n\u001b[0;32m     <a href='vscode-notebook-cell:/c%3A/Users/kihoon/Desktop/AI/skin_care/1.Data%20Downloader/data_downloader_FINAL.ipynb#W3sZmlsZQ%3D%3D?line=50'>51</a>\u001b[0m     document_height_before \u001b[39m=\u001b[39m driver\u001b[39m.\u001b[39mexecute_script(\u001b[39m\"\u001b[39m\u001b[39mreturn document.body.scrollHeight\u001b[39m\u001b[39m\"\u001b[39m)\n\u001b[0;32m     <a href='vscode-notebook-cell:/c%3A/Users/kihoon/Desktop/AI/skin_care/1.Data%20Downloader/data_downloader_FINAL.ipynb#W3sZmlsZQ%3D%3D?line=51'>52</a>\u001b[0m     driver\u001b[39m.\u001b[39mexecute_script(\u001b[39mf\u001b[39m\u001b[39m\"\u001b[39m\u001b[39mwindow.scrollTo(0, \u001b[39m\u001b[39m{\u001b[39;00mscroll_height\u001b[39m}\u001b[39;00m\u001b[39m);\u001b[39m\u001b[39m\"\u001b[39m)\n\u001b[1;32m---> <a href='vscode-notebook-cell:/c%3A/Users/kihoon/Desktop/AI/skin_care/1.Data%20Downloader/data_downloader_FINAL.ipynb#W3sZmlsZQ%3D%3D?line=52'>53</a>\u001b[0m     time\u001b[39m.\u001b[39;49msleep(\u001b[39m3\u001b[39;49m)\n\u001b[0;32m     <a href='vscode-notebook-cell:/c%3A/Users/kihoon/Desktop/AI/skin_care/1.Data%20Downloader/data_downloader_FINAL.ipynb#W3sZmlsZQ%3D%3D?line=53'>54</a>\u001b[0m     document_height_after \u001b[39m=\u001b[39m driver\u001b[39m.\u001b[39mexecute_script(\u001b[39m\"\u001b[39m\u001b[39mreturn document.body.scrollHeight\u001b[39m\u001b[39m\"\u001b[39m)\n\u001b[0;32m     <a href='vscode-notebook-cell:/c%3A/Users/kihoon/Desktop/AI/skin_care/1.Data%20Downloader/data_downloader_FINAL.ipynb#W3sZmlsZQ%3D%3D?line=54'>55</a>\u001b[0m \u001b[39m# document_height_before = driver.execute_script(\"return document.body.scrollHeight\")\u001b[39;00m\n\u001b[0;32m     <a href='vscode-notebook-cell:/c%3A/Users/kihoon/Desktop/AI/skin_care/1.Data%20Downloader/data_downloader_FINAL.ipynb#W3sZmlsZQ%3D%3D?line=55'>56</a>\u001b[0m \u001b[39m# driver.execute_script(f\"window.scrollTo(0, {scroll_height});\")\u001b[39;00m\n\u001b[0;32m     <a href='vscode-notebook-cell:/c%3A/Users/kihoon/Desktop/AI/skin_care/1.Data%20Downloader/data_downloader_FINAL.ipynb#W3sZmlsZQ%3D%3D?line=56'>57</a>\u001b[0m \u001b[39m# time.sleep(3)\u001b[39;00m\n\u001b[1;32m   (...)\u001b[0m\n\u001b[0;32m     <a href='vscode-notebook-cell:/c%3A/Users/kihoon/Desktop/AI/skin_care/1.Data%20Downloader/data_downloader_FINAL.ipynb#W3sZmlsZQ%3D%3D?line=60'>61</a>\u001b[0m \u001b[39m# time.sleep(3)\u001b[39;00m\n\u001b[0;32m     <a href='vscode-notebook-cell:/c%3A/Users/kihoon/Desktop/AI/skin_care/1.Data%20Downloader/data_downloader_FINAL.ipynb#W3sZmlsZQ%3D%3D?line=61'>62</a>\u001b[0m \u001b[39m# document_height_after = driver.execute_script(\"return document.body.scrollHeight\")\u001b[39;00m\n",
      "\u001b[1;31mKeyboardInterrupt\u001b[0m: "
     ]
    }
   ],
   "source": [
    "# 이미지 크롤링 실행\n",
    "for key_word in category:\n",
    "    save_dir = \"_\".join(key_word.split())\n",
    "    download_google_images_no_api(key_word, num_images, save_dir) "
   ]
  }
 ],
 "metadata": {
  "kernelspec": {
   "display_name": "Python 3",
   "language": "python",
   "name": "python3"
  },
  "language_info": {
   "codemirror_mode": {
    "name": "ipython",
    "version": 3
   },
   "file_extension": ".py",
   "mimetype": "text/x-python",
   "name": "python",
   "nbconvert_exporter": "python",
   "pygments_lexer": "ipython3",
   "version": "3.10.10"
  },
  "orig_nbformat": 4
 },
 "nbformat": 4,
 "nbformat_minor": 2
}
