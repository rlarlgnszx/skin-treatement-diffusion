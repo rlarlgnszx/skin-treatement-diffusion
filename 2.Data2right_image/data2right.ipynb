{
 "cells": [
  {
   "cell_type": "code",
   "execution_count": 1,
   "metadata": {},
   "outputs": [],
   "source": [
    "from transformers import AutoModelForImageClassification, AutoImageProcessor\n",
    "from transformers import pipeline\n",
    "from glob import glob\n",
    "import os\n",
    "checkpoint = glob('*kiru')\n",
    "# print(checkpoint)\n",
    "\n",
    "checkpoint = checkpoint[0]\n",
    "image_processor = AutoImageProcessor.from_pretrained(checkpoint,do_normalize=False)\n",
    "model = AutoModelForImageClassification.from_pretrained(checkpoint)\n",
    "pipe = pipeline(\"image-classification\", \n",
    "                model=model,\n",
    "                feature_extractor=image_processor)\n",
    "\n",
    "def input_image(path):\n",
    "    img = Image.open(path)\n",
    "    # print(img )\n",
    "    return pipe(img)"
   ]
  },
  {
   "cell_type": "code",
   "execution_count": 2,
   "metadata": {},
   "outputs": [
    {
     "data": {
      "text/plain": [
       "'swin-tiny-patch4-window7-224-finetuned-kiru'"
      ]
     },
     "execution_count": 2,
     "metadata": {},
     "output_type": "execute_result"
    }
   ],
   "source": [
    "checkpoint"
   ]
  },
  {
   "cell_type": "code",
   "execution_count": 23,
   "metadata": {},
   "outputs": [
    {
     "data": {
      "text/plain": [
       "[{'score': 0.670434832572937, 'label': 'false'},\n",
       " {'score': 0.329565167427063, 'label': 'true'}]"
      ]
     },
     "execution_count": 23,
     "metadata": {},
     "output_type": "execute_result"
    }
   ],
   "source": [
    "input_image('./botox_with bunny line/image_192.jpg')"
   ]
  },
  {
   "cell_type": "code",
   "execution_count": 24,
   "metadata": {},
   "outputs": [
    {
     "name": "stderr",
     "output_type": "stream",
     "text": [
      "  6%|▌         | 248/4036 [00:32<07:17,  8.66it/s]c:\\Users\\kihoon\\AppData\\Local\\Programs\\Python\\Python310\\lib\\site-packages\\PIL\\Image.py:996: UserWarning: Palette images with Transparency expressed in bytes should be converted to RGBA images\n",
      "  warnings.warn(\n",
      " 30%|███       | 1213/4036 [02:47<07:35,  6.20it/s]c:\\Users\\kihoon\\AppData\\Local\\Programs\\Python\\Python310\\lib\\site-packages\\PIL\\TiffImagePlugin.py:858: UserWarning: Truncated File Read\n",
      "  warnings.warn(str(msg))\n",
      "100%|██████████| 4036/4036 [09:40<00:00,  6.95it/s]\n"
     ]
    }
   ],
   "source": [
    "from glob import glob\n",
    "import os\n",
    "from PIL import Image\n",
    "import shutil\n",
    "from tqdm.auto import tqdm\n",
    "path =glob('*/*.jpg')\n",
    "for node in tqdm(path):\n",
    "    filepath, filename = node.split('\\\\')\n",
    "    if not os.path.exists(os.path.join(filepath,'true')):\n",
    "        os.mkdir(os.path.join(filepath,'true'))\n",
    "    check =  input_image(node)\n",
    "    if check[0]['label']=='false' and check[0]['score']>=0.7 :\n",
    "        shutil.copyfile(node,os.path.join(filepath,'true',filename))"
   ]
  },
  {
   "cell_type": "code",
   "execution_count": null,
   "metadata": {},
   "outputs": [],
   "source": []
  }
 ],
 "metadata": {
  "kernelspec": {
   "display_name": "Python 3",
   "language": "python",
   "name": "python3"
  },
  "language_info": {
   "codemirror_mode": {
    "name": "ipython",
    "version": 3
   },
   "file_extension": ".py",
   "mimetype": "text/x-python",
   "name": "python",
   "nbconvert_exporter": "python",
   "pygments_lexer": "ipython3",
   "version": "3.10.10"
  }
 },
 "nbformat": 4,
 "nbformat_minor": 2
}
